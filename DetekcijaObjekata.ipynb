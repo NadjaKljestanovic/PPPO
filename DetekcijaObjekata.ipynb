{
  "nbformat": 4,
  "nbformat_minor": 0,
  "metadata": {
    "colab": {
      "provenance": [],
      "authorship_tag": "ABX9TyMUzFNoyXY78ZjkV9J3j6Qd",
      "include_colab_link": true
    },
    "kernelspec": {
      "name": "python3",
      "display_name": "Python 3"
    },
    "language_info": {
      "name": "python"
    },
    "widgets": {
      "application/vnd.jupyter.widget-state+json": {
        "cdab6320d7304cfc983584c5092e020d": {
          "model_module": "@jupyter-widgets/controls",
          "model_name": "HBoxModel",
          "model_module_version": "1.5.0",
          "state": {
            "_dom_classes": [],
            "_model_module": "@jupyter-widgets/controls",
            "_model_module_version": "1.5.0",
            "_model_name": "HBoxModel",
            "_view_count": null,
            "_view_module": "@jupyter-widgets/controls",
            "_view_module_version": "1.5.0",
            "_view_name": "HBoxView",
            "box_style": "",
            "children": [
              "IPY_MODEL_1b3c205a5ea74c40bb4ba662c4d14620",
              "IPY_MODEL_89485d125c1c4c61acc0762c9ec640f2",
              "IPY_MODEL_daf96a7a407e4d6da5ffe5ec4cc5780d"
            ],
            "layout": "IPY_MODEL_ac38fa85e4054aac8b625ee0dcc5bd3f"
          }
        },
        "1b3c205a5ea74c40bb4ba662c4d14620": {
          "model_module": "@jupyter-widgets/controls",
          "model_name": "HTMLModel",
          "model_module_version": "1.5.0",
          "state": {
            "_dom_classes": [],
            "_model_module": "@jupyter-widgets/controls",
            "_model_module_version": "1.5.0",
            "_model_name": "HTMLModel",
            "_view_count": null,
            "_view_module": "@jupyter-widgets/controls",
            "_view_module_version": "1.5.0",
            "_view_name": "HTMLView",
            "description": "",
            "description_tooltip": null,
            "layout": "IPY_MODEL_ec00de4aae1d4f3a9e6cd1778f6ffa9c",
            "placeholder": "​",
            "style": "IPY_MODEL_1d9144094fa94b87b15f4ef58aefcf43",
            "value": " 70%"
          }
        },
        "89485d125c1c4c61acc0762c9ec640f2": {
          "model_module": "@jupyter-widgets/controls",
          "model_name": "FloatProgressModel",
          "model_module_version": "1.5.0",
          "state": {
            "_dom_classes": [],
            "_model_module": "@jupyter-widgets/controls",
            "_model_module_version": "1.5.0",
            "_model_name": "FloatProgressModel",
            "_view_count": null,
            "_view_module": "@jupyter-widgets/controls",
            "_view_module_version": "1.5.0",
            "_view_name": "ProgressView",
            "bar_style": "",
            "description": "",
            "description_tooltip": null,
            "layout": "IPY_MODEL_b3f4d3dacd174620975067363de69a73",
            "max": 80,
            "min": 0,
            "orientation": "horizontal",
            "style": "IPY_MODEL_da53693db75941638c5c4b50c10fba8b",
            "value": 56
          }
        },
        "daf96a7a407e4d6da5ffe5ec4cc5780d": {
          "model_module": "@jupyter-widgets/controls",
          "model_name": "HTMLModel",
          "model_module_version": "1.5.0",
          "state": {
            "_dom_classes": [],
            "_model_module": "@jupyter-widgets/controls",
            "_model_module_version": "1.5.0",
            "_model_name": "HTMLModel",
            "_view_count": null,
            "_view_module": "@jupyter-widgets/controls",
            "_view_module_version": "1.5.0",
            "_view_name": "HTMLView",
            "description": "",
            "description_tooltip": null,
            "layout": "IPY_MODEL_452649fd8baa4cb18c619bce875cb359",
            "placeholder": "​",
            "style": "IPY_MODEL_9c1a110720544dcb8b147ef8898a1bff",
            "value": " 56/80 [17:07&lt;06:29, 16.23s/it]"
          }
        },
        "ac38fa85e4054aac8b625ee0dcc5bd3f": {
          "model_module": "@jupyter-widgets/base",
          "model_name": "LayoutModel",
          "model_module_version": "1.2.0",
          "state": {
            "_model_module": "@jupyter-widgets/base",
            "_model_module_version": "1.2.0",
            "_model_name": "LayoutModel",
            "_view_count": null,
            "_view_module": "@jupyter-widgets/base",
            "_view_module_version": "1.2.0",
            "_view_name": "LayoutView",
            "align_content": null,
            "align_items": null,
            "align_self": null,
            "border": null,
            "bottom": null,
            "display": null,
            "flex": null,
            "flex_flow": null,
            "grid_area": null,
            "grid_auto_columns": null,
            "grid_auto_flow": null,
            "grid_auto_rows": null,
            "grid_column": null,
            "grid_gap": null,
            "grid_row": null,
            "grid_template_areas": null,
            "grid_template_columns": null,
            "grid_template_rows": null,
            "height": null,
            "justify_content": null,
            "justify_items": null,
            "left": null,
            "margin": null,
            "max_height": null,
            "max_width": null,
            "min_height": null,
            "min_width": null,
            "object_fit": null,
            "object_position": null,
            "order": null,
            "overflow": null,
            "overflow_x": null,
            "overflow_y": null,
            "padding": null,
            "right": null,
            "top": null,
            "visibility": null,
            "width": null
          }
        },
        "ec00de4aae1d4f3a9e6cd1778f6ffa9c": {
          "model_module": "@jupyter-widgets/base",
          "model_name": "LayoutModel",
          "model_module_version": "1.2.0",
          "state": {
            "_model_module": "@jupyter-widgets/base",
            "_model_module_version": "1.2.0",
            "_model_name": "LayoutModel",
            "_view_count": null,
            "_view_module": "@jupyter-widgets/base",
            "_view_module_version": "1.2.0",
            "_view_name": "LayoutView",
            "align_content": null,
            "align_items": null,
            "align_self": null,
            "border": null,
            "bottom": null,
            "display": null,
            "flex": null,
            "flex_flow": null,
            "grid_area": null,
            "grid_auto_columns": null,
            "grid_auto_flow": null,
            "grid_auto_rows": null,
            "grid_column": null,
            "grid_gap": null,
            "grid_row": null,
            "grid_template_areas": null,
            "grid_template_columns": null,
            "grid_template_rows": null,
            "height": null,
            "justify_content": null,
            "justify_items": null,
            "left": null,
            "margin": null,
            "max_height": null,
            "max_width": null,
            "min_height": null,
            "min_width": null,
            "object_fit": null,
            "object_position": null,
            "order": null,
            "overflow": null,
            "overflow_x": null,
            "overflow_y": null,
            "padding": null,
            "right": null,
            "top": null,
            "visibility": null,
            "width": null
          }
        },
        "1d9144094fa94b87b15f4ef58aefcf43": {
          "model_module": "@jupyter-widgets/controls",
          "model_name": "DescriptionStyleModel",
          "model_module_version": "1.5.0",
          "state": {
            "_model_module": "@jupyter-widgets/controls",
            "_model_module_version": "1.5.0",
            "_model_name": "DescriptionStyleModel",
            "_view_count": null,
            "_view_module": "@jupyter-widgets/base",
            "_view_module_version": "1.2.0",
            "_view_name": "StyleView",
            "description_width": ""
          }
        },
        "b3f4d3dacd174620975067363de69a73": {
          "model_module": "@jupyter-widgets/base",
          "model_name": "LayoutModel",
          "model_module_version": "1.2.0",
          "state": {
            "_model_module": "@jupyter-widgets/base",
            "_model_module_version": "1.2.0",
            "_model_name": "LayoutModel",
            "_view_count": null,
            "_view_module": "@jupyter-widgets/base",
            "_view_module_version": "1.2.0",
            "_view_name": "LayoutView",
            "align_content": null,
            "align_items": null,
            "align_self": null,
            "border": null,
            "bottom": null,
            "display": null,
            "flex": null,
            "flex_flow": null,
            "grid_area": null,
            "grid_auto_columns": null,
            "grid_auto_flow": null,
            "grid_auto_rows": null,
            "grid_column": null,
            "grid_gap": null,
            "grid_row": null,
            "grid_template_areas": null,
            "grid_template_columns": null,
            "grid_template_rows": null,
            "height": null,
            "justify_content": null,
            "justify_items": null,
            "left": null,
            "margin": null,
            "max_height": null,
            "max_width": null,
            "min_height": null,
            "min_width": null,
            "object_fit": null,
            "object_position": null,
            "order": null,
            "overflow": null,
            "overflow_x": null,
            "overflow_y": null,
            "padding": null,
            "right": null,
            "top": null,
            "visibility": null,
            "width": null
          }
        },
        "da53693db75941638c5c4b50c10fba8b": {
          "model_module": "@jupyter-widgets/controls",
          "model_name": "ProgressStyleModel",
          "model_module_version": "1.5.0",
          "state": {
            "_model_module": "@jupyter-widgets/controls",
            "_model_module_version": "1.5.0",
            "_model_name": "ProgressStyleModel",
            "_view_count": null,
            "_view_module": "@jupyter-widgets/base",
            "_view_module_version": "1.2.0",
            "_view_name": "StyleView",
            "bar_color": null,
            "description_width": ""
          }
        },
        "452649fd8baa4cb18c619bce875cb359": {
          "model_module": "@jupyter-widgets/base",
          "model_name": "LayoutModel",
          "model_module_version": "1.2.0",
          "state": {
            "_model_module": "@jupyter-widgets/base",
            "_model_module_version": "1.2.0",
            "_model_name": "LayoutModel",
            "_view_count": null,
            "_view_module": "@jupyter-widgets/base",
            "_view_module_version": "1.2.0",
            "_view_name": "LayoutView",
            "align_content": null,
            "align_items": null,
            "align_self": null,
            "border": null,
            "bottom": null,
            "display": null,
            "flex": null,
            "flex_flow": null,
            "grid_area": null,
            "grid_auto_columns": null,
            "grid_auto_flow": null,
            "grid_auto_rows": null,
            "grid_column": null,
            "grid_gap": null,
            "grid_row": null,
            "grid_template_areas": null,
            "grid_template_columns": null,
            "grid_template_rows": null,
            "height": null,
            "justify_content": null,
            "justify_items": null,
            "left": null,
            "margin": null,
            "max_height": null,
            "max_width": null,
            "min_height": null,
            "min_width": null,
            "object_fit": null,
            "object_position": null,
            "order": null,
            "overflow": null,
            "overflow_x": null,
            "overflow_y": null,
            "padding": null,
            "right": null,
            "top": null,
            "visibility": null,
            "width": null
          }
        },
        "9c1a110720544dcb8b147ef8898a1bff": {
          "model_module": "@jupyter-widgets/controls",
          "model_name": "DescriptionStyleModel",
          "model_module_version": "1.5.0",
          "state": {
            "_model_module": "@jupyter-widgets/controls",
            "_model_module_version": "1.5.0",
            "_model_name": "DescriptionStyleModel",
            "_view_count": null,
            "_view_module": "@jupyter-widgets/base",
            "_view_module_version": "1.2.0",
            "_view_name": "StyleView",
            "description_width": ""
          }
        }
      }
    }
  },
  "cells": [
    {
      "cell_type": "markdown",
      "metadata": {
        "id": "view-in-github",
        "colab_type": "text"
      },
      "source": [
        "<a href=\"https://colab.research.google.com/github/NadjaKljestanovic/PPPO/blob/main/DetekcijaObjekata.ipynb\" target=\"_parent\"><img src=\"https://colab.research.google.com/assets/colab-badge.svg\" alt=\"Open In Colab\"/></a>"
      ]
    },
    {
      "cell_type": "markdown",
      "source": [
        "Univerzitet u Novom Sadu\n",
        "\n",
        "Fakultet tehničkih nauka\n",
        "\n",
        "Departman za industrijsko inženjerstvo i menadžment\n",
        "\n"
      ],
      "metadata": {
        "id": "axJuppo-l16b"
      }
    },
    {
      "cell_type": "markdown",
      "source": [
        "**Predmet**: Principi prezentacije i prepoznavanja oblika\n",
        "\n",
        "**Tema projektnog zadatka:** Detekcija objekata - automobili\n",
        "\n",
        "**Student:** Nađa Klještanović IT23/2020\n",
        "\n",
        "\n",
        "---\n",
        "\n"
      ],
      "metadata": {
        "id": "o__TW5lH2VzX"
      }
    },
    {
      "cell_type": "markdown",
      "source": [
        "**Sadržaj rada:**\n",
        "\n",
        "1.   Uvod\n",
        "  *   Mašinsko učenje\n",
        "  *   Deep learning\n",
        "  *   Računarska vizija\n",
        "2.   Opis zadatka\n",
        "3.   Teorijske osnove\n",
        "  *   Detekcija objekata\n",
        "  *   Bounding box\n",
        "4.   Predlog rešenja problema\n",
        "5.   Zaključak\n",
        "6.   Reference\n",
        "\n",
        "\n",
        "---\n",
        "\n"
      ],
      "metadata": {
        "id": "HqVmONH53aaJ"
      }
    },
    {
      "cell_type": "markdown",
      "source": [
        "> **Uvod**"
      ],
      "metadata": {
        "id": "ZORv6ASb5VRe"
      }
    },
    {
      "cell_type": "markdown",
      "source": [
        "\n",
        "1.   **Mašinsko učenje**\n",
        "\n",
        "Mašinsko učenje je grana veštačke inteligencije koja se bavi razvojem algoritama i tehnika koji omogućavaju računarima da uče iz podataka. Glavni cilj mašinskog učenja je da omogući računarima da detektuju obrasce u podacima i koriste ih kako bi donosili odluke ili predviđali buduće događaje.\n",
        "\n",
        "Mašinsko učenje se koristi u različitim oblastima, kao što su prepoznavanje govora, preporučivanje proizvoda, analiza podataka i mnoge druge.\n",
        "\n",
        "Neki osnovni koraci mašinskog učenja bi mogli biti definisani na sledeći način:\n",
        "\n",
        "\n",
        "  1.   Prikupljanje podataka,\n",
        "  2.   priprema podataka,\n",
        "  3.   analiza rezultujućih skupova podataka,\n",
        "  4.   izbor jednog ili više modela učenja,\n",
        "  5.   trening ili obuka,\n",
        "  6.   evaluacija modela,\n",
        "  7.   konfiurisanje hiperparametara i\n",
        "  8.   predviđanja.\n",
        "\n",
        "Postoji tri tipa mašinskog učenja, a to su:\n",
        "\n",
        "  1.   Nadgledano učenje,\n",
        "  2.   nenadgledano učenje i\n",
        "  3.   učenje uz podsticaje.\n",
        "\n",
        "Razlozi primene mašinskog učenja jesu rešavanje teških problema u praksi, kao što su prepoznavanje lica ili nekih drugih objekata na fotografijama ili video zapisima, klasifikacija teksta i mašinsko prevođenje, analiza osećanja izraženih u tekstu i prepozanavnje govora [1].\n",
        "\n",
        "3.   **Deep learning**\n",
        "\n",
        "Deep learning predstavlja poseban pristup mašinskom učenju koji koristi duboke neuronske mreže za automatsko učenje reprezentacija podataka. Ovaj pristup učenju je podskup mašinskog učenja i prepoznaje se po neuronskim mrežama koje imaju više slojeva u odnosu na tradicionalne metode mašinskog učenja.\n",
        "\n",
        "Duboke neuronske mreže karakteriše sposobnost automatskog izdvajanja složenih i apstraktnih reprezentacija iz podataka, što ih činin efikasnima za obradu velikih i kompleksnih skupova podataka.\n",
        "\n",
        "\n",
        "Deep learning je postao ključna tehnologija u oblasti računarske vizije. Probleme kao što su prepoznavanje objekata, klasifikacija i segmentacija slika, prepoznavanje lica i mnoge druge, neuronske mreže rešavaju na impresivan način. Što se tiče analize vizuelnih podataka, CNN ili konvolucione neuronske mreže su posebno uspešne u ovoj oblasti. One efikasno identifikuju lokalne obrasce u slikama, čime se postiže visok nivo preciznosti u prepoznavanju objekata [2].\n",
        "\n",
        "3.   **Računarska vizija**\n",
        "\n",
        "Računarska vizija je područje veštačke inteligencije koje se bavi razvojem tehnika i algoritama koji omogućavaju računarima da interpretiraju, analiziraju i razumeju vizuelne informacije iz slika ili video snimaka. Glavni cilj računarske vizije je da omogući računarima da vide i razumeju svet oko sebe na način koji je sličan ljudskom oku, to jest vidu.\n",
        "\n",
        "Primena računarske vizije jeste u različitim aplikacijama, kao što su aplikacije prepoznavanja lica, analiza medicinskih slika, autonomna vožnja automobila, detekcija objekata i mnoge druge.\n",
        "\n",
        "Mašinsko učenje je opštiji pojam koji obuhvata širok spektar tehnika koje omogućavaju računarima da uče iz podataka. Računarska vizija je specifična grana mašinskog učenja koja se fokusira na obradu vizuelnih informacija.\n",
        "\n",
        "Računarska vizija često koristi tehnike mašinskog učenja kako bi postigla svoje ciljeve. Na primer, algoritmi mašinskog učenja se često koriste za klasifikaciju objekata na slikama, detekciju lica ili prepoznavanje uzoraka na video snimcima.\n",
        "\n",
        "Postojeći sistemi računarske vizije obavljaju pristojan posao u klasifikovanju slika i lokalizovanju objekata na fotografijama kada se obučavaju na dovoljnom broju primera. Ipak, u suštini, algoritmi dubokog učenja koji pokreću aplikacije za računarsku viziju bave se uparivanjem uzoraka piksela. Oni ne razumeju šta se događa na slikama. Razumevanje odnosa ljudi i objekata u vizuelnim podacima zahteva zdrav razum i pozadinsko znanje [3].\n",
        "\n",
        "\n",
        "---\n",
        "\n"
      ],
      "metadata": {
        "id": "Sw31ybl-7Bw9"
      }
    },
    {
      "cell_type": "markdown",
      "source": [
        "> **Opis zadatka**\n"
      ],
      "metadata": {
        "id": "pLfzyEVC67aG"
      }
    },
    {
      "cell_type": "markdown",
      "source": [
        "Projektni zadatak na temu *Detekcija objekata - automobili* odnosi se na kreiranje modela koji će biti sposoban da prepozna traženi objekat na slici, dakle automobil, i prikaže ga korisniku na određeni način. Konkretno ovaj projektni zadatak bi trebalo da koristi tehniku *bounding box* koja će uočeni objekat na slici uokviriti pravougaonikom određenog formata.\n",
        "\n",
        "Dobijeni dataset nad kojim bi projekat trebalo kreirati sadrži dva direktorijuma i dva *.csv* fajla. Direktorijumi sadrže slike koje će služiti za treniranje, a kasnije i za testiranje samog kreiranog modela. Datoteke namenjena treningu modela sadrži podatke o ID-ju slike sa dodeljenim koordinatama pravougaonika koji bi trebalo da opiše vozilo na slici. Što se tiče testnik podataka, struktura je identična, s tim što je u ovom fajlu naglasak na ID-jevima slika, a koordinate model sam treba da izračuna.\n",
        "\n",
        "---"
      ],
      "metadata": {
        "id": "11L0JDXW7CNb"
      }
    },
    {
      "cell_type": "markdown",
      "source": [
        "\n",
        "> **Teorijske osnove**\n"
      ],
      "metadata": {
        "id": "-vR1I3Nh64Mo"
      }
    },
    {
      "cell_type": "markdown",
      "source": [
        "  1.   **Detekcija objekata**\n",
        "\n",
        "Detekcija objekata na slikama je zadatak računarske vizije koja se, kao što je već rečeno, bavi prepoznavanjem i lokalizacijom različitih objekata ili entiteta unutar slika. Detekcija objekata ima veliku primenu kod autonomnih vozila, video nadzora, medicinske dijagnostike i prepoznavanja lica.\n",
        "\n",
        "Ključni pojmovi vezani za detekciju objekata su:\n",
        "\n",
        "\n",
        "*   Lokalizacija objekata,\n",
        "*   klasifikacia objekata i\n",
        "*   detekcija ključnih tačaka.\n",
        "\n",
        "Lokalizacija objekata podrazumeva identifikaciju i označavanje objekta unutart slike. To se često izražava pomoću okvira (*bounding box*) koji okružuje detetkovan objekat, što će biti obrađeno u narednom pasusu projekta.\n",
        "\n",
        "Klasifikacija objekata se vrši nakon lokalizacije, a podrazumeva određivanje klase kojoj objekat pripada. To može uključivati prepoznavanje različitih kategorija kao što su automobili, ljudi - pešaci, životinje ili bilo koje druge klase.\n",
        "\n",
        "Ponekad je neophodno detektovati ključne tačke objekta. Pod ključnim tačkama podrazumevaju se karakteristične tačke kao što su uglovi lica na primer. Ovaj korak se često preduzima prilikom prepoznavanja gestikulacija ili analize pokreta.\n",
        "\n",
        "Postoje različiti algoritmi koji služe za detekciju, odnosno prepoznavanje objekata. Neki od njih, koji se koriste kada želimo da radimo tehniku *bounding box*, su:\n",
        "\n",
        "*   *YOLO* - *You Only Look Once*,\n",
        "*   *SSD* - *Single Shot Multibox Detector* i\n",
        "*   *Faster R-CNN* - *Region-based Convolutional Neural Network*.\n",
        "\n",
        "*YOLO* je jednostavan i efikasan algoritam koji radi na principu da samo jednom analizira celu sliku radi detekcije objekata. Umesto tradicionalnog pristupa koji deli sliku na mrežu i analizira svaki deo zasebno, *YOLO* koristi jednu neuronsku mrežu za predviđanje *bounding box-ova* i verovatnoća pripadnosti klasi. Ovaj pristup omogućava bržu i efikasniju detekciju, ali ima problema sa preciznošću, posebno pri detekciji malih objekata.\n",
        "\n",
        "*SSD* je jedan od često korišćenih algoritama, a njegova ključna prednost je u sposobnosti istovremenog predviđanja objekata različitih veličina u jednom prolazu kroz neuronsku mrežu. Koristi niz *default bounding box-ova* na različitim skalama i proporcijama, čime omogućava detekciju objekata različitih veličina. *SSD* često pruža dobar balans između brzine i preciznosti, a posebno je efikasan u detekciji manjih objekata. Ovaj algoritam će biti iskorišćen u narednom pasusu gde je prikazano praktično rešenje.\n",
        "\n",
        "*Faster R-CNN* je jedan od prvih algoritama koji kombinuje *Region Proposal Network* - *RPN* sa konvolutivnim neuronskim mrežama - *CNN*. Ovaj pristup omogućava mreži da automatski generiše regione od interesa i fokusira se na delove slike gde su verovatno prisutni objekti. Nakon toga, koristi se drugi deo mreže za klasifikaciju i preciznu lokalizaciju objekata. *Faster R-CNN* ima visoku preciznost, a mana mu je to što može biti spor u odnosu na *YOLO* i *SSD* algoritme.\n",
        "\n",
        "Svaki od navedenih algoritama ima svoje prednosti i nedostatke, a potrebe projekta (specifični zahtevi, brzina detekcije i tražena tačnost) određuju koji će se od pomenutih algoritama koristiti [4].\n"
      ],
      "metadata": {
        "id": "sIKB0-v46Sej"
      }
    },
    {
      "cell_type": "markdown",
      "source": [
        "2.   **Bounding box**\n",
        "\n",
        "*Bounding box* je tehnika koja se koristi za oznaku objekata detektovanih na fotografijama ili video zapisima upotrebom računarske vizije. Ograničen okvir označava objekte od interesa za model, bilo da je to čovek, životinja, saobraćajni znak, vozilo ili bilo šta drugo. Model je programiran da uči o sadržaju unutar *bounding box-a* kako bi predvideo prisustvo sličnih objekata kada je izložen novim podacima koje ranije nije video.\n",
        "\n",
        "*Bounding box* ili granična kutija, definisana je uglavnom sa dve tačke , a to su gornji levi i donji desni ugao pravougaonika. Ove jednostavne oznake se koriste za otkrivanje objekata i lokalizaciju, pružajući jednostavan i intuitivan način za opisivanje položaja i veličine objekza na slici.\n",
        "\n",
        "Ova tehnika se koristi uokliko želimo da detektujemo objekat na fotografiji ili pratimo objekat u videp zapisima.\n",
        "\n",
        "Postoje različite prakse za označavanje *bounding box-ova*, a neke od njih su:\n",
        "\n",
        "*   *Consistent labeling*,\n",
        "*   *Tight boxes*,\n",
        "*   *Overlapping boxes*,\n",
        "*   *Occlusion and Truncation*,\n",
        "*   *Label All Instances* i\n",
        "*   moderni alati za označavanje.\n",
        "\n",
        "Kod *Consistent labeling-a* ključno je osigurati da ista klasa objekata bude označena istim imenom na svim slikama u skupu podataka. Konzistentnost je neophodna za modele obuke koji mogu precizno prepozanti objekte.\n",
        "\n",
        "*Tight boxes* podrazumeva da pravouganik mora da se nalazi čvrsto, odnosno odmah do uočenog objekta, tako da njegove ivice dodiruju granice objekta bez odsecanja njegovih delova.\n",
        "\n",
        "Kada se objekti preklapaju ili zatvaraju, preporučuje se upotreba *Overlapping boxes*, odnosno crtanje pojedinačnih okvira oko svakog vidljivog objekta.\n",
        "\n",
        "*Occlusion and Truncation* ima sličnu upotrebu kao prethodno navedena praksa, odnosno preporučuje se da se nacrtaju pravougaonici samo oko vidljivih delova objekata.\n",
        "\n",
        "*Label All Instances* je metoda koja podrazumeva da je svaka instanca klase objekata označena na svakoj slici, čak iako su instance male ili delimično vidljive. To pomaže modelu da nauči da detektuje objekte pod različitim uslovima koji oponašaju stvarnost.\n",
        "\n",
        "Moderni alati za označavanje obezbeđuju funkcije kao što su automatsko preklapanje okvira, uveličavanje i prečice na tastaturi, čineći proces efikasnijim i preciznijim. Dakle, upotreba modernih alata se preporučuje jer su oni veoma jednostavni za korišćenje, a pružaju veliku efikasnost prilikom crtanja *boundinx box-ova*.\n",
        "\n",
        "***Bounding box* ili segmentacija**\n",
        "\n",
        "Segmentacija jeste tehnika koja se koristi prilikom detekcije, odnosno prepoznavanja objekata kako bi sevoznačio objekat koji je lokalizovan. Nasuprot *bounding box* tehnici koja funkcioniše tako što se crta pravougaonik oko objekta, kada se koristi segmentacija, objekat bude celom svojom površinom prekriven maskom koja se ističe u odnosu na ostatak fotografije.\n",
        "\n",
        "I jedna i druga tehnika različite svrhe u kojima se koriste, a odabir tehnike zavisi od konkretnog problema koji se rešava.\n",
        "\n",
        "U daljem tekstu biće navedene situacije kada se favorizuje korišćenje tehnike *bounding box* u odnosu na segmentaciju:\n",
        "\n",
        "\n",
        "*   Detekcija i lokalizacija objekta,\n",
        "*   brža anotacija,\n",
        "*   efikasnost,\n",
        "*   potreba za manje detaljnim informacijama i\n",
        "*   jednostavnost modela.\n",
        "\n",
        "Ako je primarni cilj da se detektuju i lokalizuju objekti, *bounding box* je bolja tehnika jer obezbeđuje jednoszavnu i efikacnu reprezentaciju pozicije i veličine (obima) objekta.\n",
        "\n",
        "*Bounding box-evi* se brže i lakše označavaju nego maske kod segmentacije jer one zahtevaju napomenu na nivou piksela. Ovo može biti značajna prednost pri kreiranju modela nad velikim skupom podataka.\n",
        "\n",
        "Računska efikasnost podrazumeva to da ova tehnika zahteva manje memorije i vremena, te ih to čini pogodnijim za *realtime* aplikacije ili primenu na uređajima sa ograničenim resursima.\n",
        "\n",
        "Kada kreiramo aplikaciju koja ne zahteva detaljne unformacije o granicama objekta ili razdvajanju objekata iste klase, pravougaonici koji se kreiraju mogu biti dovoljni. Primer takve aplikacije jeste aplikacija koja služi za detekciju pešaka ili vozila, gde nam lokacija i veličina objekta pruža sasvim dovoljno potrebnih informacija.\n",
        "\n",
        "Što se tiče implementacije i obuke, *bounding box* modeli mogu biti jednostavniji, jer segmentacija često zahteva upotrebu složenije arhitekture i strategija obuke [5].\n",
        "\n",
        "---"
      ],
      "metadata": {
        "id": "dG5TDvaP6ffy"
      }
    },
    {
      "cell_type": "markdown",
      "source": [
        "> **Predlog rešenja problema**"
      ],
      "metadata": {
        "id": "axXh7jxfRsg8"
      }
    },
    {
      "cell_type": "markdown",
      "source": [
        "U narednom paragrafu biće predstavljeno jedno rešenje zadatog problema detekcije automobila na fotografijama. Takođe, detaljno će biti opisan kod koji je priložen u daljem tekstu."
      ],
      "metadata": {
        "id": "_cHKuYo6jr19"
      }
    },
    {
      "cell_type": "code",
      "source": [
        "from google.colab import drive\n",
        "drive.mount('/content/drive')"
      ],
      "metadata": {
        "colab": {
          "base_uri": "https://localhost:8080/"
        },
        "id": "0Fj6p3tKqRQn",
        "outputId": "c50522ea-6263-4f97-8d4f-30e2c513efb5"
      },
      "execution_count": 50,
      "outputs": [
        {
          "output_type": "stream",
          "name": "stdout",
          "text": [
            "Drive already mounted at /content/drive; to attempt to forcibly remount, call drive.mount(\"/content/drive\", force_remount=True).\n"
          ]
        }
      ]
    },
    {
      "cell_type": "markdown",
      "source": [
        "Prvi korak podrazumeva ostvarivanje konekcije sa *Google Drive*-om. On nam je potreban iz razloga što se na njemu nalazi dataset, odnosno svi potrebni podaci za treniranje, ali i za testiranje modela koji se kreira. Korišćenje *Google Drive*-a nam omogućava modul *drive* koji se nalazi u biblioteci *google-colab*. Njega je potrebno prvo uvesti, a zatim pozvati metodu *mount* kako bismo se povezali sa diskom radi pristupa fajlovima."
      ],
      "metadata": {
        "id": "7qpSSrXdqkgf"
      }
    },
    {
      "cell_type": "markdown",
      "source": [
        "U narednoj ćeliji nalaze se svi neophodni *importi*, odnosno uvoženje svih biblioteka koje će biti korišćene. Takođe, pored svake linije nalazi se kratko objašnjenje o generalnoj svrsi biblioteke, njenih modula ili funkcija. Neposredno nakon uvoza svega što je potrebno, vrši se oslobađanje memorijskog prostora što je veoma korisno ako se koristi PyTorch."
      ],
      "metadata": {
        "id": "w2lHtI8gtYbv"
      }
    },
    {
      "cell_type": "code",
      "source": [
        "import numpy as np #rad sa numeričkim nizovima\n",
        "import pandas as pd #manipulacija podacima u obliku DataFrame-a\n",
        "import os #manipulacija fajlovima i direktorijumima (interakcija sa operativnim sistemom)\n",
        "import glob #pretraga putem wildcards-a (*)\n",
        "import torch #za mašinsko učenje\n",
        "import random\n",
        "from torchvision.ops import nms #fukcija za eliminaciju preklapanja izlaza\n",
        "import cv2 #rad sa slikama i računarskom vizijom\n",
        "import PIL.Image as Image #modul za rad sa slikama\n",
        "import matplotlib.pyplot as plt #modul za vizuelizaciju podataka i slika\n",
        "torch.cuda.empty_cache() #funkcija za oslobađanje memorijskog prostora"
      ],
      "metadata": {
        "id": "4771DbDCGOus"
      },
      "execution_count": 51,
      "outputs": []
    },
    {
      "cell_type": "markdown",
      "source": [
        "Dalje, vrši se postavljanje nekih promenljivih koje će biti korišćene kroz ceo kod, a one se odnose na veličinu slike, veličinu batch-a (broj slika kojima se pristpa tokom jedne iteracije treninga), broj epoha treniranja i learning rate (stopa učenja). Kao uređaj se koristi *cuda* ako je GPU dostupan, a u suprotnom *cpu*."
      ],
      "metadata": {
        "id": "3JJfvDcXsQF-"
      }
    },
    {
      "cell_type": "code",
      "source": [
        "image_size=256\n",
        "batch_size=4\n",
        "device='cuda' if torch.cuda.is_available() else 'cpu'\n",
        "epochs= 3\n",
        "lr=0.0002"
      ],
      "metadata": {
        "id": "3XjA8tzasQhH"
      },
      "execution_count": 52,
      "outputs": []
    },
    {
      "cell_type": "markdown",
      "source": [
        "Broj epoha predstavlja broj itercija kroz ceo skup podataka koje model prolazi prilikom treniranja. On bi trebalo da bude optimalan, ni previše velik, ali ni previše mali. U ovom primeru broj epoha je postavljen na 3 iz razloga što je vreme izvršavanja epohe veliko, pa da bi sam trening modela bio efikasniji. Neki broj epoha koji bi bio dobar za ovaj model jeste 40, ali, kao što je prethodno pomenuto, to oduzima mnogo vremena."
      ],
      "metadata": {
        "id": "Qcv__MNosKlW"
      }
    },
    {
      "cell_type": "code",
      "source": [
        "dir_path = '/content/drive/MyDrive/data'\n",
        "csv_file = '/content/drive/MyDrive/data/train_solution_bounding_boxes (1).csv'"
      ],
      "metadata": {
        "id": "ezvMuVIJsLVP"
      },
      "execution_count": 53,
      "outputs": []
    },
    {
      "cell_type": "markdown",
      "source": [
        "Prethodne dve promenljive se odnose na putanje do direktorijuma sa datasetom, kao i do *csv* fajla u kome su izlistani podaci za trening."
      ],
      "metadata": {
        "id": "1kw91IbRsPuv"
      }
    },
    {
      "cell_type": "code",
      "source": [
        "train_images = os.listdir(os.path.join(dir_path, 'training_images'))\n",
        "num_train_images = len(train_images)\n",
        "\n",
        "test_images = os.listdir(os.path.join(dir_path, 'testing_images'))\n",
        "num_test_images = len(test_images)"
      ],
      "metadata": {
        "id": "Li5tI_FiV9zV"
      },
      "execution_count": 54,
      "outputs": []
    },
    {
      "cell_type": "code",
      "source": [
        "print(\"Količina slika za trening:\", num_train_images)"
      ],
      "metadata": {
        "colab": {
          "base_uri": "https://localhost:8080/"
        },
        "id": "M9MVmkgiWFTN",
        "outputId": "d660ccdc-3110-498e-c8f3-b91b8b6d9385"
      },
      "execution_count": 55,
      "outputs": [
        {
          "output_type": "stream",
          "name": "stdout",
          "text": [
            "Količina slika za trening: 1001\n"
          ]
        }
      ]
    },
    {
      "cell_type": "code",
      "source": [
        "print(\"Korličina slika za test:\", num_test_images)"
      ],
      "metadata": {
        "colab": {
          "base_uri": "https://localhost:8080/"
        },
        "id": "4_jO-Of7WHkA",
        "outputId": "77e36397-dcd6-4991-ba58-be3f0a0a7126"
      },
      "execution_count": 56,
      "outputs": [
        {
          "output_type": "stream",
          "name": "stdout",
          "text": [
            "Korličina slika za test: 175\n"
          ]
        }
      ]
    },
    {
      "cell_type": "markdown",
      "source": [
        "Prethodni kod odnosi se na ispis broja slika koji se nalazi u direktorijumima koji su namenjeni za treniranje modela i za njegovo testiranje."
      ],
      "metadata": {
        "id": "1A2bOIVQXHs3"
      }
    },
    {
      "cell_type": "markdown",
      "source": [
        "Dalje, naredna ćelija odnosi se na rad sa podacima uz pomoć *Pandas* biblioteke. Kreira se dataframe u koji se smeštaju podaci iščitani iz fajla do kog smo prethodno sačuvali putanju. Inače, dataframe omogućava lako manipulisanje podacima i njihovu analizu.\n",
        "\n",
        "Pored toga, u df se dodaje kolona pod nazivom *label*, a sve vrednosti u okviru nje se postavljaju na 1. Ovo označava da sve slike iz dataseta pripadaju istoj klasi, što je jedna dodatna informacija za dataframe.\n",
        "\n",
        "Na samom kraju ćelije ispisuju se podaci o df-u, kao što su ukupan broj ćelija i broj jedinstvenih slika kako bismo ispratili strukturu fajla, a takođe, ispisuje se i sam df."
      ],
      "metadata": {
        "id": "QCc_anMdwf9Z"
      }
    },
    {
      "cell_type": "code",
      "source": [
        "df = pd.read_csv(csv_file)\n",
        "df['label']=[1]*len(df)\n",
        "\n",
        "print(f\"Dataframe sadrži {len(df)} redova za {len(df.image.unique())} jedinstvenih slika. \\n\")\n",
        "df"
      ],
      "metadata": {
        "colab": {
          "base_uri": "https://localhost:8080/",
          "height": 458
        },
        "id": "KXqRRhY7GWpi",
        "outputId": "b0628e4a-4287-4591-99d9-d16f5a32598d"
      },
      "execution_count": 57,
      "outputs": [
        {
          "output_type": "stream",
          "name": "stdout",
          "text": [
            "Dataframe sadrži 559 redova za 355 jedinstvenih slika. \n",
            "\n"
          ]
        },
        {
          "output_type": "execute_result",
          "data": {
            "text/plain": [
              "               image        xmin        ymin        xmax        ymax  label\n",
              "0     vid_4_1000.jpg  281.259045  187.035071  327.727931  223.225547      1\n",
              "1    vid_4_10000.jpg   15.163531  187.035071  120.329957  236.430180      1\n",
              "2    vid_4_10040.jpg  239.192475  176.764801  361.968162  236.430180      1\n",
              "3    vid_4_10020.jpg  496.483358  172.363256  630.020260  231.539575      1\n",
              "4    vid_4_10060.jpg   16.630970  186.546010  132.558611  238.386422      1\n",
              "..               ...         ...         ...         ...         ...    ...\n",
              "554   vid_4_9860.jpg    0.000000  198.321729   49.235251  236.223284      1\n",
              "555   vid_4_9880.jpg  329.876184  156.482351  536.664239  250.497895      1\n",
              "556   vid_4_9900.jpg    0.000000  168.295823  141.797524  239.176652      1\n",
              "557   vid_4_9960.jpg  487.428988  172.233646  616.917699  228.839864      1\n",
              "558   vid_4_9980.jpg  221.558631  182.570434  348.585579  238.192196      1\n",
              "\n",
              "[559 rows x 6 columns]"
            ],
            "text/html": [
              "\n",
              "  <div id=\"df-887b7a20-f82a-465d-a73f-efe95ec995f7\" class=\"colab-df-container\">\n",
              "    <div>\n",
              "<style scoped>\n",
              "    .dataframe tbody tr th:only-of-type {\n",
              "        vertical-align: middle;\n",
              "    }\n",
              "\n",
              "    .dataframe tbody tr th {\n",
              "        vertical-align: top;\n",
              "    }\n",
              "\n",
              "    .dataframe thead th {\n",
              "        text-align: right;\n",
              "    }\n",
              "</style>\n",
              "<table border=\"1\" class=\"dataframe\">\n",
              "  <thead>\n",
              "    <tr style=\"text-align: right;\">\n",
              "      <th></th>\n",
              "      <th>image</th>\n",
              "      <th>xmin</th>\n",
              "      <th>ymin</th>\n",
              "      <th>xmax</th>\n",
              "      <th>ymax</th>\n",
              "      <th>label</th>\n",
              "    </tr>\n",
              "  </thead>\n",
              "  <tbody>\n",
              "    <tr>\n",
              "      <th>0</th>\n",
              "      <td>vid_4_1000.jpg</td>\n",
              "      <td>281.259045</td>\n",
              "      <td>187.035071</td>\n",
              "      <td>327.727931</td>\n",
              "      <td>223.225547</td>\n",
              "      <td>1</td>\n",
              "    </tr>\n",
              "    <tr>\n",
              "      <th>1</th>\n",
              "      <td>vid_4_10000.jpg</td>\n",
              "      <td>15.163531</td>\n",
              "      <td>187.035071</td>\n",
              "      <td>120.329957</td>\n",
              "      <td>236.430180</td>\n",
              "      <td>1</td>\n",
              "    </tr>\n",
              "    <tr>\n",
              "      <th>2</th>\n",
              "      <td>vid_4_10040.jpg</td>\n",
              "      <td>239.192475</td>\n",
              "      <td>176.764801</td>\n",
              "      <td>361.968162</td>\n",
              "      <td>236.430180</td>\n",
              "      <td>1</td>\n",
              "    </tr>\n",
              "    <tr>\n",
              "      <th>3</th>\n",
              "      <td>vid_4_10020.jpg</td>\n",
              "      <td>496.483358</td>\n",
              "      <td>172.363256</td>\n",
              "      <td>630.020260</td>\n",
              "      <td>231.539575</td>\n",
              "      <td>1</td>\n",
              "    </tr>\n",
              "    <tr>\n",
              "      <th>4</th>\n",
              "      <td>vid_4_10060.jpg</td>\n",
              "      <td>16.630970</td>\n",
              "      <td>186.546010</td>\n",
              "      <td>132.558611</td>\n",
              "      <td>238.386422</td>\n",
              "      <td>1</td>\n",
              "    </tr>\n",
              "    <tr>\n",
              "      <th>...</th>\n",
              "      <td>...</td>\n",
              "      <td>...</td>\n",
              "      <td>...</td>\n",
              "      <td>...</td>\n",
              "      <td>...</td>\n",
              "      <td>...</td>\n",
              "    </tr>\n",
              "    <tr>\n",
              "      <th>554</th>\n",
              "      <td>vid_4_9860.jpg</td>\n",
              "      <td>0.000000</td>\n",
              "      <td>198.321729</td>\n",
              "      <td>49.235251</td>\n",
              "      <td>236.223284</td>\n",
              "      <td>1</td>\n",
              "    </tr>\n",
              "    <tr>\n",
              "      <th>555</th>\n",
              "      <td>vid_4_9880.jpg</td>\n",
              "      <td>329.876184</td>\n",
              "      <td>156.482351</td>\n",
              "      <td>536.664239</td>\n",
              "      <td>250.497895</td>\n",
              "      <td>1</td>\n",
              "    </tr>\n",
              "    <tr>\n",
              "      <th>556</th>\n",
              "      <td>vid_4_9900.jpg</td>\n",
              "      <td>0.000000</td>\n",
              "      <td>168.295823</td>\n",
              "      <td>141.797524</td>\n",
              "      <td>239.176652</td>\n",
              "      <td>1</td>\n",
              "    </tr>\n",
              "    <tr>\n",
              "      <th>557</th>\n",
              "      <td>vid_4_9960.jpg</td>\n",
              "      <td>487.428988</td>\n",
              "      <td>172.233646</td>\n",
              "      <td>616.917699</td>\n",
              "      <td>228.839864</td>\n",
              "      <td>1</td>\n",
              "    </tr>\n",
              "    <tr>\n",
              "      <th>558</th>\n",
              "      <td>vid_4_9980.jpg</td>\n",
              "      <td>221.558631</td>\n",
              "      <td>182.570434</td>\n",
              "      <td>348.585579</td>\n",
              "      <td>238.192196</td>\n",
              "      <td>1</td>\n",
              "    </tr>\n",
              "  </tbody>\n",
              "</table>\n",
              "<p>559 rows × 6 columns</p>\n",
              "</div>\n",
              "    <div class=\"colab-df-buttons\">\n",
              "\n",
              "  <div class=\"colab-df-container\">\n",
              "    <button class=\"colab-df-convert\" onclick=\"convertToInteractive('df-887b7a20-f82a-465d-a73f-efe95ec995f7')\"\n",
              "            title=\"Convert this dataframe to an interactive table.\"\n",
              "            style=\"display:none;\">\n",
              "\n",
              "  <svg xmlns=\"http://www.w3.org/2000/svg\" height=\"24px\" viewBox=\"0 -960 960 960\">\n",
              "    <path d=\"M120-120v-720h720v720H120Zm60-500h600v-160H180v160Zm220 220h160v-160H400v160Zm0 220h160v-160H400v160ZM180-400h160v-160H180v160Zm440 0h160v-160H620v160ZM180-180h160v-160H180v160Zm440 0h160v-160H620v160Z\"/>\n",
              "  </svg>\n",
              "    </button>\n",
              "\n",
              "  <style>\n",
              "    .colab-df-container {\n",
              "      display:flex;\n",
              "      gap: 12px;\n",
              "    }\n",
              "\n",
              "    .colab-df-convert {\n",
              "      background-color: #E8F0FE;\n",
              "      border: none;\n",
              "      border-radius: 50%;\n",
              "      cursor: pointer;\n",
              "      display: none;\n",
              "      fill: #1967D2;\n",
              "      height: 32px;\n",
              "      padding: 0 0 0 0;\n",
              "      width: 32px;\n",
              "    }\n",
              "\n",
              "    .colab-df-convert:hover {\n",
              "      background-color: #E2EBFA;\n",
              "      box-shadow: 0px 1px 2px rgba(60, 64, 67, 0.3), 0px 1px 3px 1px rgba(60, 64, 67, 0.15);\n",
              "      fill: #174EA6;\n",
              "    }\n",
              "\n",
              "    .colab-df-buttons div {\n",
              "      margin-bottom: 4px;\n",
              "    }\n",
              "\n",
              "    [theme=dark] .colab-df-convert {\n",
              "      background-color: #3B4455;\n",
              "      fill: #D2E3FC;\n",
              "    }\n",
              "\n",
              "    [theme=dark] .colab-df-convert:hover {\n",
              "      background-color: #434B5C;\n",
              "      box-shadow: 0px 1px 3px 1px rgba(0, 0, 0, 0.15);\n",
              "      filter: drop-shadow(0px 1px 2px rgba(0, 0, 0, 0.3));\n",
              "      fill: #FFFFFF;\n",
              "    }\n",
              "  </style>\n",
              "\n",
              "    <script>\n",
              "      const buttonEl =\n",
              "        document.querySelector('#df-887b7a20-f82a-465d-a73f-efe95ec995f7 button.colab-df-convert');\n",
              "      buttonEl.style.display =\n",
              "        google.colab.kernel.accessAllowed ? 'block' : 'none';\n",
              "\n",
              "      async function convertToInteractive(key) {\n",
              "        const element = document.querySelector('#df-887b7a20-f82a-465d-a73f-efe95ec995f7');\n",
              "        const dataTable =\n",
              "          await google.colab.kernel.invokeFunction('convertToInteractive',\n",
              "                                                    [key], {});\n",
              "        if (!dataTable) return;\n",
              "\n",
              "        const docLinkHtml = 'Like what you see? Visit the ' +\n",
              "          '<a target=\"_blank\" href=https://colab.research.google.com/notebooks/data_table.ipynb>data table notebook</a>'\n",
              "          + ' to learn more about interactive tables.';\n",
              "        element.innerHTML = '';\n",
              "        dataTable['output_type'] = 'display_data';\n",
              "        await google.colab.output.renderOutput(dataTable, element);\n",
              "        const docLink = document.createElement('div');\n",
              "        docLink.innerHTML = docLinkHtml;\n",
              "        element.appendChild(docLink);\n",
              "      }\n",
              "    </script>\n",
              "  </div>\n",
              "\n",
              "\n",
              "<div id=\"df-c812a396-7418-4049-9c86-a3d2ebee439d\">\n",
              "  <button class=\"colab-df-quickchart\" onclick=\"quickchart('df-c812a396-7418-4049-9c86-a3d2ebee439d')\"\n",
              "            title=\"Suggest charts\"\n",
              "            style=\"display:none;\">\n",
              "\n",
              "<svg xmlns=\"http://www.w3.org/2000/svg\" height=\"24px\"viewBox=\"0 0 24 24\"\n",
              "     width=\"24px\">\n",
              "    <g>\n",
              "        <path d=\"M19 3H5c-1.1 0-2 .9-2 2v14c0 1.1.9 2 2 2h14c1.1 0 2-.9 2-2V5c0-1.1-.9-2-2-2zM9 17H7v-7h2v7zm4 0h-2V7h2v10zm4 0h-2v-4h2v4z\"/>\n",
              "    </g>\n",
              "</svg>\n",
              "  </button>\n",
              "\n",
              "<style>\n",
              "  .colab-df-quickchart {\n",
              "      --bg-color: #E8F0FE;\n",
              "      --fill-color: #1967D2;\n",
              "      --hover-bg-color: #E2EBFA;\n",
              "      --hover-fill-color: #174EA6;\n",
              "      --disabled-fill-color: #AAA;\n",
              "      --disabled-bg-color: #DDD;\n",
              "  }\n",
              "\n",
              "  [theme=dark] .colab-df-quickchart {\n",
              "      --bg-color: #3B4455;\n",
              "      --fill-color: #D2E3FC;\n",
              "      --hover-bg-color: #434B5C;\n",
              "      --hover-fill-color: #FFFFFF;\n",
              "      --disabled-bg-color: #3B4455;\n",
              "      --disabled-fill-color: #666;\n",
              "  }\n",
              "\n",
              "  .colab-df-quickchart {\n",
              "    background-color: var(--bg-color);\n",
              "    border: none;\n",
              "    border-radius: 50%;\n",
              "    cursor: pointer;\n",
              "    display: none;\n",
              "    fill: var(--fill-color);\n",
              "    height: 32px;\n",
              "    padding: 0;\n",
              "    width: 32px;\n",
              "  }\n",
              "\n",
              "  .colab-df-quickchart:hover {\n",
              "    background-color: var(--hover-bg-color);\n",
              "    box-shadow: 0 1px 2px rgba(60, 64, 67, 0.3), 0 1px 3px 1px rgba(60, 64, 67, 0.15);\n",
              "    fill: var(--button-hover-fill-color);\n",
              "  }\n",
              "\n",
              "  .colab-df-quickchart-complete:disabled,\n",
              "  .colab-df-quickchart-complete:disabled:hover {\n",
              "    background-color: var(--disabled-bg-color);\n",
              "    fill: var(--disabled-fill-color);\n",
              "    box-shadow: none;\n",
              "  }\n",
              "\n",
              "  .colab-df-spinner {\n",
              "    border: 2px solid var(--fill-color);\n",
              "    border-color: transparent;\n",
              "    border-bottom-color: var(--fill-color);\n",
              "    animation:\n",
              "      spin 1s steps(1) infinite;\n",
              "  }\n",
              "\n",
              "  @keyframes spin {\n",
              "    0% {\n",
              "      border-color: transparent;\n",
              "      border-bottom-color: var(--fill-color);\n",
              "      border-left-color: var(--fill-color);\n",
              "    }\n",
              "    20% {\n",
              "      border-color: transparent;\n",
              "      border-left-color: var(--fill-color);\n",
              "      border-top-color: var(--fill-color);\n",
              "    }\n",
              "    30% {\n",
              "      border-color: transparent;\n",
              "      border-left-color: var(--fill-color);\n",
              "      border-top-color: var(--fill-color);\n",
              "      border-right-color: var(--fill-color);\n",
              "    }\n",
              "    40% {\n",
              "      border-color: transparent;\n",
              "      border-right-color: var(--fill-color);\n",
              "      border-top-color: var(--fill-color);\n",
              "    }\n",
              "    60% {\n",
              "      border-color: transparent;\n",
              "      border-right-color: var(--fill-color);\n",
              "    }\n",
              "    80% {\n",
              "      border-color: transparent;\n",
              "      border-right-color: var(--fill-color);\n",
              "      border-bottom-color: var(--fill-color);\n",
              "    }\n",
              "    90% {\n",
              "      border-color: transparent;\n",
              "      border-bottom-color: var(--fill-color);\n",
              "    }\n",
              "  }\n",
              "</style>\n",
              "\n",
              "  <script>\n",
              "    async function quickchart(key) {\n",
              "      const quickchartButtonEl =\n",
              "        document.querySelector('#' + key + ' button');\n",
              "      quickchartButtonEl.disabled = true;  // To prevent multiple clicks.\n",
              "      quickchartButtonEl.classList.add('colab-df-spinner');\n",
              "      try {\n",
              "        const charts = await google.colab.kernel.invokeFunction(\n",
              "            'suggestCharts', [key], {});\n",
              "      } catch (error) {\n",
              "        console.error('Error during call to suggestCharts:', error);\n",
              "      }\n",
              "      quickchartButtonEl.classList.remove('colab-df-spinner');\n",
              "      quickchartButtonEl.classList.add('colab-df-quickchart-complete');\n",
              "    }\n",
              "    (() => {\n",
              "      let quickchartButtonEl =\n",
              "        document.querySelector('#df-c812a396-7418-4049-9c86-a3d2ebee439d button');\n",
              "      quickchartButtonEl.style.display =\n",
              "        google.colab.kernel.accessAllowed ? 'block' : 'none';\n",
              "    })();\n",
              "  </script>\n",
              "</div>\n",
              "    </div>\n",
              "  </div>\n"
            ]
          },
          "metadata": {},
          "execution_count": 57
        }
      ]
    },
    {
      "cell_type": "code",
      "source": [
        "from sklearn.model_selection import train_test_split\n",
        "train_img_ids, val_img_ids = train_test_split(df.image.unique(),test_size=0.1,random_state=32)\n",
        "\n",
        "train_df = df[df.image.isin(train_img_ids)]\n",
        "val_df = df[df.image.isin(val_img_ids)]"
      ],
      "metadata": {
        "id": "mwsTkTuMG8d8"
      },
      "execution_count": 58,
      "outputs": []
    },
    {
      "cell_type": "markdown",
      "source": [
        "Ovaj blok koda koristi funkciju *train_test_split* iz navedene biblioteke, kako bi podelio skup podataka na trening i validacione skupove. Funkcija radi tako što sve torke koje imaju jedinstvenu vrednost za kolonu *image* iz dataframe-a, deli na 10% (test_size = 0.1) podataka za validacioni skup i 90%, odnosno ostatak za trening. Seed za generisanje slučajnih brojeva je konstantan, što znači da se će kreirati ista podela svaki put. Nakon splitovanja, kreiraju se dva nova dataseta u koja se smeštaju podaci o slikama prema prethodnog podeli, odnosno slike čiji se ID nalazi u skupu da trening, biće sačuvane u train_df, a analogno tome, slike za validaciju čuvaju se u val_df."
      ],
      "metadata": {
        "id": "bIAvUf9lzvN_"
      }
    },
    {
      "cell_type": "code",
      "source": [
        "import torch\n",
        "import albumentations as A"
      ],
      "metadata": {
        "id": "Ik53h8xR4wR7"
      },
      "execution_count": 59,
      "outputs": []
    },
    {
      "cell_type": "markdown",
      "source": [
        "Importujemo dve biblioteke koje će nam biti potrebne za definisanje dataseta i augmentaciju slika."
      ],
      "metadata": {
        "id": "lJc8BjzR4zoK"
      }
    },
    {
      "cell_type": "markdown",
      "source": [
        "Prvo radimo augmentaciju, odnosno transformacije koje će se primeniti na trening, validacione, a zatim i test slike. Transformacije su promena veličine, horizontalno i vertikalno rotiranje, promena osvetljenja i kontrasta. Takođe, postavljaju se parametri za rad sa *bounding box*-ovima.\n",
        "\n",
        "*Pascal_voc* format obuhvata informacije o xmin, ymin, xmax i ymax koje su date u datasetu. Specificira se polje koje predstavlja oznaku klase i definiše se da se neće vršiti provera oblika pravougaonika nakon primene augmentacije."
      ],
      "metadata": {
        "id": "G3rePYFn5IJn"
      }
    },
    {
      "cell_type": "code",
      "source": [
        "# trening slike\n",
        "train_augs=A.Compose([\n",
        "    A.Resize(image_size,image_size),\n",
        "    A.HorizontalFlip(p=0.2),\n",
        "    A.VerticalFlip(p=0.2),\n",
        "    A.RandomBrightnessContrast(p=0.2),\n",
        "],bbox_params=A.BboxParams(format='pascal_voc', label_fields=['class_labels']), is_check_shapes=False)\n",
        "\n",
        "#validacione slike\n",
        "val_augs=A.Compose([\n",
        "    A.Resize(image_size,image_size),\n",
        "],bbox_params=A.BboxParams(format='pascal_voc', label_fields=['class_labels']), is_check_shapes=False)\n",
        "\n",
        "#test slike\n",
        "test_augs=A.Compose([\n",
        "    A.Resize(image_size,image_size)\n",
        "],is_check_shapes=False)"
      ],
      "metadata": {
        "id": "5vhjyo0a47KZ"
      },
      "execution_count": 60,
      "outputs": []
    },
    {
      "cell_type": "markdown",
      "source": [
        "Naredna klasa se koristi za manipulisanje podacima tokom treniranja ili evaluacije. Konstruktor klase prima parametre kao što su putanje do slika, augmentacija i dataframe."
      ],
      "metadata": {
        "id": "m-hTA9aH63UD"
      }
    },
    {
      "cell_type": "code",
      "source": [
        "class CarDetectionDataset(torch.utils.data.Dataset):\n",
        "    def __init__(self, image_ids, df, augs=None, train=True):\n",
        "        self.df=df\n",
        "        self.augs=augs\n",
        "        self.image_ids=image_ids\n",
        "        if train:\n",
        "            self.dir_path='/content/drive/MyDrive/data/training_images'\n",
        "        else:\n",
        "            self.dir_path='/content/drive/MyDrive/data/testing_images'\n",
        "\n",
        "    def __len__(self):\n",
        "        return len(self.image_ids) #ukupan broj slika u datasetu\n",
        "\n",
        "    def __getitem__(self,idx):\n",
        "        image_id=self.image_ids[idx]\n",
        "        image_path=os.path.join(self.dir_path,image_id)\n",
        "        image=cv2.imread(image_path)\n",
        "        image=cv2.cvtColor(image,cv2.COLOR_BGR2RGB)\n",
        "\n",
        "        bboxes = self.df[self.df.image==image_id][['xmin','ymin','xmax','ymax']].values\n",
        "        labels = self.df[self.df.image==image_id][['label']].values\n",
        "\n",
        "        if self.augs!=None:\n",
        "            data=self.augs(image=image, bboxes=bboxes, class_labels=['None']*len(bboxes))\n",
        "            image=data['image']\n",
        "            bboxes=data['bboxes']\n",
        "\n",
        "        image = torch.Tensor(np.transpose(image,(2,0,1)))/255.0\n",
        "        bboxes = torch.Tensor(bboxes).long()\n",
        "        labels = torch.Tensor(labels).long().squeeze(1)\n",
        "\n",
        "        target={}\n",
        "        target['boxes']=bboxes\n",
        "        target['labels']=labels\n",
        "\n",
        "        return image, target #vraća podatke određene torke (sliku i metapodatke o slici)\n",
        "\n",
        "    def collate_fn(self,batch):\n",
        "        return tuple(zip(*batch)) #grupisanje i priprema batch-a podataka"
      ],
      "metadata": {
        "id": "oHq_pYA0HAFT"
      },
      "execution_count": 61,
      "outputs": []
    },
    {
      "cell_type": "markdown",
      "source": [
        "Najkompleksnija funkcija u prethodnoj ćeliji odnosi se na kreiranje metapodataka o samoj slici, to jest jednoj torki iz tabele. Prvo se kreira putanja do slike na osnovu njenoj ID-ja. Zatim, čita se slika sa kreirane putanje u obliku trodimenzionalnog NumPy niza u formatu BGR. Zatim se iz tog formata, konvertuje u RGB usled potreba korišćenih biblioteka. Nakon toga se slici dodeljuju svi *bounding box*-ovi koji joj pripadaju. Ovi podaci uključuju koordinate xmin, ymin, xmax i ymax. Pored toga, dodeljuju joj se i oznake labele i primenjuje se augmentacija ukoliko je definisana. Zatim se ti svi podaci konvertuju u PyTorch tensor i kreira se rečnik u okviru koga se isti podaci čuvaju pod ključevima *boxes* i *labels*."
      ],
      "metadata": {
        "id": "rLDy1qna9Ywv"
      }
    },
    {
      "cell_type": "markdown",
      "source": [
        "Kreiraju se instance prethodno navedene klase i vrši se ispis informacija o trening setu, odnosno ispisuje se broj slika za trening i ukupan broj *bounding box*-eva u ovom skupu."
      ],
      "metadata": {
        "id": "d7sxnEad76uz"
      }
    },
    {
      "cell_type": "code",
      "source": [
        "trainset=CarDetectionDataset(train_img_ids, train_df, augs=train_augs)\n",
        "valset=CarDetectionDataset(val_img_ids, val_df,augs=val_augs)\n",
        "\n",
        "print(f\"Ukupno {len(trainset)} slika sa {len(train_df)} bounding box-eva. \\n\")"
      ],
      "metadata": {
        "colab": {
          "base_uri": "https://localhost:8080/"
        },
        "id": "NbcIJ9P97zVc",
        "outputId": "59911815-3e2a-4603-dfe0-830ed7968e8e"
      },
      "execution_count": 62,
      "outputs": [
        {
          "output_type": "stream",
          "name": "stdout",
          "text": [
            "Ukupno 319 slika sa 491 bounding box-eva. \n",
            "\n"
          ]
        }
      ]
    },
    {
      "cell_type": "markdown",
      "source": [
        "Naredna ćelija vrši vizuelizaciju nasumično odabrane slike sa *bounding box*-om. Generiše se nasumičan indeks iz opsega od nula, pa do dužine trening seta umanjene za jedan. Zatim se nadje slika, a i njeni metapodaci prema indeksu. Takođe, pronađu se i bbox-ovi i labele. Slika se konvertuje u niz i prolazi se kroz bbox-ove koji se iscrtavaju zelenom bojom i ivicom debljine jedan."
      ],
      "metadata": {
        "id": "M_3BS8GJ7yv0"
      }
    },
    {
      "cell_type": "code",
      "source": [
        "idx=random.randint(0,len(trainset)-1)\n",
        "\n",
        "image, target = trainset[idx]\n",
        "bbox, label = target['boxes'], target['labels']\n",
        "image = image.permute(1,2,0).numpy()\n",
        "\n",
        "for i in range(len(bbox)):\n",
        "    sp=(int((bbox[i][0]).item()),int((bbox[i][1]).item()))\n",
        "    ep=(int((bbox[i][2]).item()),int((bbox[i][3]).item()))\n",
        "    c = (0,255,0)\n",
        "    image = cv2.rectangle(image, sp, ep, c, 1)\n",
        "\n",
        "plt.imshow(image)\n",
        "plt.axis('off')\n",
        "plt.title('Broj automobila na slici: '+str(len(bbox)))\n",
        "plt.show()"
      ],
      "metadata": {
        "colab": {
          "base_uri": "https://localhost:8080/",
          "height": 445
        },
        "id": "SFmPSco1HDx9",
        "outputId": "63cc3431-d7ce-47e9-8fe1-4f4e02aad2dd"
      },
      "execution_count": 63,
      "outputs": [
        {
          "output_type": "stream",
          "name": "stderr",
          "text": [
            "WARNING:matplotlib.image:Clipping input data to the valid range for imshow with RGB data ([0..1] for floats or [0..255] for integers).\n"
          ]
        },
        {
          "output_type": "display_data",
          "data": {
            "text/plain": [
              "<Figure size 640x480 with 1 Axes>"
            ],
            "image/png": "[encoded data removed]"
          },
          "metadata": {}
        }
      ]
    },
    {
      "cell_type": "markdown",
      "source": [
        "Kada su podaci pravilno raspoređeni po datasetovima, sledeći korak je kreiranje dataloadera za trening i validaciju. Dataloader omogućava prolazak kroz podatke u vidu iteracija tokom treniranja modela. Za samo kreiranje poziva se funkcija kojoj se prosleđuju parametri o setu podataka za trening, velični batch-a, prethodno definisanoj funkciji za grupisanje podataka u batch (collate_fn) i slučajno mešanje podataka koje je postavljeno na true. Na sličan način se kreira i dataloader za validacioni set podataka, sa tim što kod validacionog seta nema potrebe za mešanjem podataka jer se njime radi evaluacija, a ne treniranje."
      ],
      "metadata": {
        "id": "Cl1AN-BuEwzN"
      }
    },
    {
      "cell_type": "code",
      "source": [
        "trainloader = torch.utils.data.DataLoader(trainset, batch_size=batch_size, collate_fn=trainset.collate_fn ,shuffle=True)\n",
        "valloader = torch.utils.data.DataLoader(valset, batch_size=batch_size, collate_fn=valset.collate_fn)\n"
      ],
      "metadata": {
        "id": "mJ5l0EiiHp_-"
      },
      "execution_count": 64,
      "outputs": []
    },
    {
      "cell_type": "markdown",
      "source": [
        "Ispis broja batcheva u trening setu da bismo videli koliko puta će model prolazti kroz set tokom jedne epohe."
      ],
      "metadata": {
        "id": "KkI6R71aGJbg"
      }
    },
    {
      "cell_type": "code",
      "source": [
        "\n",
        "print(f\"Broj batch-eva: {len(trainloader)}\")"
      ],
      "metadata": {
        "colab": {
          "base_uri": "https://localhost:8080/"
        },
        "id": "oGIv-BjFGIyY",
        "outputId": "d4253b3a-a8ca-43e8-aa8a-da0bde7b4ed4"
      },
      "execution_count": 65,
      "outputs": [
        {
          "output_type": "stream",
          "name": "stdout",
          "text": [
            "Broj batch-eva: 80\n"
          ]
        }
      ]
    },
    {
      "cell_type": "code",
      "source": [
        "import torchvision\n",
        "\n",
        "model_ssd = torchvision.models.detection.ssd300_vgg16(preTrained=True, num_classes=2)\n",
        "model_ssd.to(device);"
      ],
      "metadata": {
        "id": "2yBvxVbXHvFs"
      },
      "execution_count": 66,
      "outputs": []
    },
    {
      "cell_type": "markdown",
      "source": [
        "Prethodna ćelija se odnosi na upotrebu PyTorch biblioteke za kreiranje i konfiuraciju SSD modelaa za detekciju objekata. Prvo je neophodno uvesti potrebnu biblioteku, zatim se instancira model uz prosleđivanje parametara. Parametri se odnose na to da se koristi prethodno obučen model i da je broj klasa koje je neohodno detektovati jednak sa dva. Broj klasa je postavljen na dva jer se radi o binarnom problemu klasifikacije, odnosno objekat može da bude ili prisutan ili odsutan."
      ],
      "metadata": {
        "id": "zMgNTGwCHylY"
      }
    },
    {
      "cell_type": "markdown",
      "source": [
        "Sledeći blok definiše funkciju ključnu za treniranje modela. Koristi se arhitektura detektora objekta iz PyTorch torchvision biblioteke. Modul koji se uvozi služi za praćenje napretka u iteracijama kroz dataloader. Funkcija prima tri parametra, a to su model, to jest objekat koji predstavlja arhitekturu, zatim dataloader koji sadrži podatke za treniranje i optimizator koji će se koristit za optimizaciju parametara modela.\n",
        "\n",
        "Promenljiva *train_loss* služi za praćenje ukupnog gubitka tokom treninga. For petlja služi za prolazak kroz dataloader sa trakom za vizuelizaciju napretka iteracija. U svakoj iteraciji se prenose slike i metapodaci na uređaj i računa se ukupan gubitak. Funkcija vraća prosečan trening gubitak koji se računa deljenjem ukupnog gubitka sa brojem iteracija u dataloaderu."
      ],
      "metadata": {
        "id": "edtdEZdEK5g4"
      }
    },
    {
      "cell_type": "code",
      "source": [
        "from tqdm.auto import tqdm\n",
        "\n",
        "def trainarc(model, dataloader, opt):\n",
        "    model.train() #postavlja model u režim treniranja\n",
        "    train_loss=0.0\n",
        "\n",
        "    for image, target in tqdm(dataloader):\n",
        "        image = list(i.to(device) for i in image)\n",
        "        target = [{k: v.to(device) for k, v in t.items()} for t in target]\n",
        "\n",
        "        opt.zero_grad()\n",
        "        losses = model(image, target)\n",
        "        loss = sum(loss for loss in losses.values()) #ukupan gubitak\n",
        "        loss.backward() #gradijenti gubitka\n",
        "        opt.step()\n",
        "\n",
        "        train_loss+=loss.item()\n",
        "\n",
        "    return train_loss/len(dataloader)"
      ],
      "metadata": {
        "id": "TRbSPa7zH7kP"
      },
      "execution_count": 67,
      "outputs": []
    },
    {
      "cell_type": "markdown",
      "source": [
        "Naredni blok predstalja treniranje modela. Prvo se vrši priprema, odnosno pomoćna promenljiva za gubitak se setuje na pozitivnu beskonačnost i kreira se optimizator koji će se koristiti za ažuriranje parametara modela tokom treniranja. Broj epoha je postavljen na dva, a petlja iterira dok ne prođe kroz sve epohe. Za svaku epohu poziva se prethodno kreirana funkcija *trainarc* i ispisuje se informacija o trening gubitku. Kada se prođe kroz sve epohe, ispisuje se poruka da je treniranje završeno i podatak o najmanjem gubitku koji je postignut tokom epoha."
      ],
      "metadata": {
        "id": "U3wirHo1OAQ7"
      }
    },
    {
      "cell_type": "code",
      "source": [
        "best_train_loss = np.Inf\n",
        "opt = torch.optim.Adam(model_ssd.parameters(), lr=lr)\n",
        "\n",
        "for i in range(epochs):\n",
        "    train_loss = trainarc(model_ssd, trainloader, opt)\n",
        "\n",
        "    print(f\"Epoha: {i+1}:- Trening gubitak: {train_loss}\")\n",
        "\n",
        "    if train_loss < best_train_loss:\n",
        "        torch.save(model_ssd.state_dict(), '/content/drive/MyDrive/data/model_ssd.pt')\n",
        "        print(\"Model ažuriran\")\n",
        "        best_train_loss = train_loss\n",
        "\n",
        "print(f\"KRAJ.\\nNajmanji trening gubitak: {best_train_loss}\")"
      ],
      "metadata": {
        "colab": {
          "base_uri": "https://localhost:8080/",
          "height": 49,
          "referenced_widgets": [
            "cdab6320d7304cfc983584c5092e020d",
            "1b3c205a5ea74c40bb4ba662c4d14620",
            "89485d125c1c4c61acc0762c9ec640f2",
            "daf96a7a407e4d6da5ffe5ec4cc5780d",
            "ac38fa85e4054aac8b625ee0dcc5bd3f",
            "ec00de4aae1d4f3a9e6cd1778f6ffa9c",
            "1d9144094fa94b87b15f4ef58aefcf43",
            "b3f4d3dacd174620975067363de69a73",
            "da53693db75941638c5c4b50c10fba8b",
            "452649fd8baa4cb18c619bce875cb359",
            "9c1a110720544dcb8b147ef8898a1bff"
          ]
        },
        "id": "4Mz44XQcH_wi",
        "outputId": "bde4c17e-a032-4d92-8e40-85967c05db98"
      },
      "execution_count": null,
      "outputs": [
        {
          "output_type": "display_data",
          "data": {
            "text/plain": [
              "  0%|          | 0/80 [00:00<?, ?it/s]"
            ],
            "application/vnd.jupyter.widget-view+json": {
              "version_major": 2,
              "version_minor": 0,
              "model_id": "cdab6320d7304cfc983584c5092e020d"
            }
          },
          "metadata": {}
        }
      ]
    },
    {
      "cell_type": "markdown",
      "source": [
        "Učitavaju se prethodno sačuvane težine modela, to jest parametri iz novokreiranje datoteke *model_ssd.pt* u model. Ovo se često radi kako bi se mogao koristiti model koji je prethodno obučen ili sačuvan tokom treniranja."
      ],
      "metadata": {
        "id": "vE5wGPH3P96N"
      }
    },
    {
      "cell_type": "code",
      "source": [
        "model_ssd.load_state_dict(torch.load('/content/drive/MyDrive/data/model_ssd.pt'))"
      ],
      "metadata": {
        "id": "aFtOaJTJP4kk"
      },
      "execution_count": null,
      "outputs": []
    },
    {
      "cell_type": "markdown",
      "source": [
        "Vrši se nasumični odabr slike iz validacionog seta podatakaz, preuzimaju se metapodaci i primenjuje se augemntacija. Zatim se tako transformisana slika prikazuje."
      ],
      "metadata": {
        "id": "-E83A4MaQWUC"
      }
    },
    {
      "cell_type": "code",
      "source": [
        "idx=random.randint(1,len(valset)-1)\n",
        "image, target = valset[idx]\n",
        "image = image.permute(1,2,0).numpy()\n",
        "image = test_augs(image=image)['image']\n",
        "\n",
        "plt.imshow(image)"
      ],
      "metadata": {
        "id": "sMOKEvGZg354"
      },
      "execution_count": null,
      "outputs": []
    },
    {
      "cell_type": "markdown",
      "source": [
        "Sledeći korak podrazumeva transponovanje dimenzija slike i konvertovanje u PyTorch tensor. Nakon toga, slika je spremna za prosleđivanje kroz SSD model."
      ],
      "metadata": {
        "id": "l5-bUl60Q5ac"
      }
    },
    {
      "cell_type": "code",
      "source": [
        "img = torch.Tensor(np.transpose(image,(2,0,1)))\n"
      ],
      "metadata": {
        "id": "pymmhklyg4le"
      },
      "execution_count": null,
      "outputs": []
    },
    {
      "cell_type": "markdown",
      "source": [
        "Model se postalja u režim evaluacije i modelu se zatim prosleđuje prethodno pripremljena slika. Slika se prosleđuje u vidu liste jer je model dizajniran za rad sa batch-evima slika. Rezultat je lista predikcija koje je model generisao. Pomenuta lista se i ispisuje."
      ],
      "metadata": {
        "id": "FdncvZz2RemD"
      }
    },
    {
      "cell_type": "code",
      "source": [
        "model_ssd.eval()\n",
        "pred = model_ssd([img.to(device)])\n",
        "pred"
      ],
      "metadata": {
        "id": "8dbIFwVERbr6"
      },
      "execution_count": null,
      "outputs": []
    },
    {
      "cell_type": "markdown",
      "source": [
        "Naredni kod vrši procesuiranje predikcija dobijenih od SSD modela i prikazuje rezultate detekcije na prethodno odabranoj slici. Kao što je već poznato, prvi korak je transformacija u NumPy niz radi dalje obrade. To se radi sa slikom, *bounding box*-ovima i sa verovatnoćama. Postavlja se prag verpvatnoće na 0.4 što znači da će biti uzete u obzir samo detekcije čija je verovatnoća veća od tog broja.\n",
        "\n",
        "Primenjuje se *Non-Maximum Suppression* - *NMS* na *bounding box*-ove kako bi se eliminisali duplikati i zadržali samo najrelevantniji objekti. Prag preklapanja je u ovom slučaju postavljen na 0.05.\n",
        "\n",
        "Kreira se filtrirani indeks koji predstavlja prosečne indekre između onih koji su prošli *NMS* i prešli prag verovatnoće. Zatim se isti, kreirani filter primenjuje na *bounding box*-ove i verovatnoće.\n",
        "\n",
        "Poslednji korak jeste prolazak kroz *bounding box*-ove i njohov prikaz na slici. Takođe, ispisuje se verovatnoća detekcije iznad svakog pravougaonika."
      ],
      "metadata": {
        "id": "fmDRyP-dTGBc"
      }
    },
    {
      "cell_type": "code",
      "source": [
        "image = img.permute(1,2,0).detach().cpu().numpy().copy()\n",
        "bbox = pred[0]['boxes'].detach().cpu().numpy()\n",
        "score = pred[0]['scores'].detach().cpu().numpy()\n",
        "\n",
        "score_threshold = np.where(pred[0]['scores'].detach().cpu().numpy()>0.4)[0] #prag verovatnoće\n",
        "ixs = nms(torch.Tensor(bbox),torch.Tensor(score),0.05)\n",
        "filt = np.intersect1d(ixs, score_threshold)\n",
        "\n",
        "bbox = bbox[filt]\n",
        "score = score[filt]\n",
        "\n",
        "for i in range(len(bbox)):\n",
        "    sp=(int((bbox[i][0]).item()),int((bbox[i][1]).item()))\n",
        "    ep=(int((bbox[i][2]).item()),int((bbox[i][3]).item()))\n",
        "    cv2.rectangle(image, sp, ep, (0,255,0), 1)\n",
        "    cv2.putText(image, str(score[i])[:4], (sp[0], sp[1]-5), cv2.FONT_HERSHEY_SIMPLEX, 0.3, (0,255,0), 1)\n",
        "\n",
        "plt.imshow(image)\n",
        "plt.axis('off') #isključene oznake osa na grafiku\n",
        "plt.title('Broj detekcija: ' + str(len(filt))) #naslov\n",
        "plt.show()"
      ],
      "metadata": {
        "id": "PvFkKlcmg98c"
      },
      "execution_count": null,
      "outputs": []
    },
    {
      "cell_type": "markdown",
      "source": [
        "\n",
        "\n",
        "---\n",
        "\n"
      ],
      "metadata": {
        "id": "QS-4iRecVXIa"
      }
    },
    {
      "cell_type": "markdown",
      "source": [
        "\n",
        "\n",
        "> **Zaključak**\n",
        "\n"
      ],
      "metadata": {
        "id": "WvywACOGVSor"
      }
    },
    {
      "cell_type": "markdown",
      "source": [
        "\n",
        "Nakon kreiranog modela, odnosno prikazanog primera rešenja problema detekcije objekata na fotografijama, može se zaključiti da tačnost modela može biti bolja. Na njegove parametre uticali su različiti faktori, kao što je, na primer, mali broj epoha. Resursi ne omogućavaju kreiranje i samo treniranje modela kroz veći, odnosno relevantan broj epoha, pa se samim tim smanjuje i tačnost predstavljenog modela.\n",
        "\n",
        "Razni drugi faktori mogu da utiču na sam kvalitet modela, ali cilj ovog projekta jeste upoznavanje sa osnovnim konceptima računarske vizije, sticanje znanja o mogućim tehnikama i praktični pokušaj kreiranja modela, pa je sa te strane gledišta, zahtev zadatka ispunjen. Ukoliko se gleda kvalitet kreiranog modela, otvara se prostor za proširenje znanja i stvaranje modela koji će sa većom verovatnoćom odgovoriti na zahteve zadatka.\n",
        "\n",
        "---\n",
        "\n"
      ],
      "metadata": {
        "id": "flf92xxfVXgE"
      }
    },
    {
      "cell_type": "markdown",
      "source": [
        "\n",
        "> **Reference**\n",
        "\n"
      ],
      "metadata": {
        "id": "zkZifREClYLK"
      }
    },
    {
      "cell_type": "markdown",
      "source": [
        "[ 1 ]   [Mašinsko učenje](https://www.techtarget.com/searchenterpriseai/definition/machine-learning-ML)\n",
        "\n",
        "[ 2 ]   [*Deep learning*](https://aws.amazon.com/what-is/deep-learning/)\n",
        "\n",
        "[ 3 ]   [Računarska vizija](https://raf.edu.rs/citaliste/najnoviji-it-dogadjaji/sta-je-racunarska-vizija/)\n",
        "\n",
        "[ 4 ]   [Detekcija objekata](https://encord.com/blog/object-detection/)\n",
        "\n",
        "[ 5 ]   [*Bounding box*](https://www.ayadata.ai/blog-posts/bounding-boxes-in-computer-vision-uses-best-practices-for-labeling-and-more/)\n"
      ],
      "metadata": {
        "id": "MTuIcsLnldwJ"
      }
    },
    {
      "cell_type": "markdown",
      "source": [
        "\n",
        "\n",
        "---\n",
        "\n"
      ],
      "metadata": {
        "id": "IRSeR-UgVb_H"
      }
    }
  ]
}