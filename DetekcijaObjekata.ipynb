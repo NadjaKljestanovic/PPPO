{
  "nbformat": 4,
  "nbformat_minor": 0,
  "metadata": {
    "colab": {
      "provenance": [],
      "authorship_tag": "ABX9TyOdDy+uIgi0HSt3VLVM7GZL",
      "include_colab_link": true
    },
    "kernelspec": {
      "name": "python3",
      "display_name": "Python 3"
    },
    "language_info": {
      "name": "python"
    }
  },
  "cells": [
    {
      "cell_type": "markdown",
      "metadata": {
        "id": "view-in-github",
        "colab_type": "text"
      },
      "source": [
        "<a href=\"https://colab.research.google.com/github/NadjaKljestanovic/PPPO/blob/main/DetekcijaObjekata.ipynb\" target=\"_parent\"><img src=\"https://colab.research.google.com/assets/colab-badge.svg\" alt=\"Open In Colab\"/></a>"
      ]
    },
    {
      "cell_type": "code",
      "execution_count": 3,
      "metadata": {
        "id": "N_hUopG27tCe"
      },
      "outputs": [],
      "source": [
        "from google.colab import drive"
      ]
    },
    {
      "cell_type": "code",
      "source": [
        "drive.mount('/content/drive')"
      ],
      "metadata": {
        "colab": {
          "base_uri": "https://localhost:8080/"
        },
        "id": "H94weDDQC-WY",
        "outputId": "6b312265-c2fd-455f-a251-40c9cc50f56f"
      },
      "execution_count": 4,
      "outputs": [
        {
          "output_type": "stream",
          "name": "stdout",
          "text": [
            "Mounted at /content/drive\n"
          ]
        }
      ]
    },
    {
      "cell_type": "code",
      "source": [
        "!pip install gdown"
      ],
      "metadata": {
        "colab": {
          "base_uri": "https://localhost:8080/"
        },
        "id": "gaSvHVjTEEdh",
        "outputId": "51a1082a-26e4-4395-8160-f592b8bcc295"
      },
      "execution_count": 6,
      "outputs": [
        {
          "output_type": "stream",
          "name": "stdout",
          "text": [
            "Requirement already satisfied: gdown in /usr/local/lib/python3.10/dist-packages (4.6.6)\n",
            "Requirement already satisfied: filelock in /usr/local/lib/python3.10/dist-packages (from gdown) (3.13.1)\n",
            "Requirement already satisfied: requests[socks] in /usr/local/lib/python3.10/dist-packages (from gdown) (2.31.0)\n",
            "Requirement already satisfied: six in /usr/local/lib/python3.10/dist-packages (from gdown) (1.16.0)\n",
            "Requirement already satisfied: tqdm in /usr/local/lib/python3.10/dist-packages (from gdown) (4.66.1)\n",
            "Requirement already satisfied: beautifulsoup4 in /usr/local/lib/python3.10/dist-packages (from gdown) (4.11.2)\n",
            "Requirement already satisfied: soupsieve>1.2 in /usr/local/lib/python3.10/dist-packages (from beautifulsoup4->gdown) (2.5)\n",
            "Requirement already satisfied: charset-normalizer<4,>=2 in /usr/local/lib/python3.10/dist-packages (from requests[socks]->gdown) (3.3.2)\n",
            "Requirement already satisfied: idna<4,>=2.5 in /usr/local/lib/python3.10/dist-packages (from requests[socks]->gdown) (3.6)\n",
            "Requirement already satisfied: urllib3<3,>=1.21.1 in /usr/local/lib/python3.10/dist-packages (from requests[socks]->gdown) (2.0.7)\n",
            "Requirement already satisfied: certifi>=2017.4.17 in /usr/local/lib/python3.10/dist-packages (from requests[socks]->gdown) (2023.11.17)\n",
            "Requirement already satisfied: PySocks!=1.5.7,>=1.5.6 in /usr/local/lib/python3.10/dist-packages (from requests[socks]->gdown) (1.7.1)\n"
          ]
        }
      ]
    },
    {
      "cell_type": "code",
      "source": [
        "import gdown"
      ],
      "metadata": {
        "id": "R5wlbcnpELVC"
      },
      "execution_count": 7,
      "outputs": []
    },
    {
      "cell_type": "code",
      "source": [
        "import os\n",
        "import sys\n",
        "import random\n",
        "import math\n",
        "import warnings\n",
        "import numpy as np\n",
        "import cv2\n",
        "import matplotlib.pyplot as plt\n",
        "import json\n",
        "from imgaug import augmenters as iaa\n",
        "from tqdm import tqdm\n",
        "import pandas as pd\n",
        "import glob\n",
        "import numpy as np\n",
        "import pandas as pd\n",
        "from skimage.io import imread\n",
        "from matplotlib.cm import get_cmap\n",
        "from skimage.segmentation import mark_boundaries\n",
        "from skimage.util import montage\n",
        "from skimage.morphology import binary_opening, disk, label\n",
        "import gc; gc.enable()"
      ],
      "metadata": {
        "id": "AsaMHSemEq0n"
      },
      "execution_count": 10,
      "outputs": []
    },
    {
      "cell_type": "code",
      "source": [
        "!git clone https://github.com/maxw1489/Mask_RCNN.git\n",
        "os.chdir('Mask_RCNN')"
      ],
      "metadata": {
        "colab": {
          "base_uri": "https://localhost:8080/"
        },
        "id": "BJLzcxReE6Gu",
        "outputId": "9dd92dcd-a903-4a86-8f5c-c90ac62938f0"
      },
      "execution_count": 11,
      "outputs": [
        {
          "output_type": "stream",
          "name": "stdout",
          "text": [
            "Cloning into 'Mask_RCNN'...\n",
            "remote: Enumerating objects: 31, done.\u001b[K\n",
            "remote: Counting objects: 100% (31/31), done.\u001b[K\n",
            "remote: Compressing objects: 100% (30/30), done.\u001b[K\n",
            "remote: Total 31 (delta 6), reused 20 (delta 0), pack-reused 0\u001b[K\n",
            "Receiving objects: 100% (31/31), 10.81 MiB | 22.27 MiB/s, done.\n",
            "Resolving deltas: 100% (6/6), done.\n"
          ]
        }
      ]
    },
    {
      "cell_type": "code",
      "source": [
        "sys.path.append(os.path.join('Mask_RCNN'))  # To find local version of the library\n",
        "from mrcnn.config import Config\n",
        "from mrcnn import utils\n",
        "import mrcnn.model as modellib\n",
        "from mrcnn import visualize\n",
        "from mrcnn.model import log"
      ],
      "metadata": {
        "id": "RNBhgkGeE-rh"
      },
      "execution_count": 13,
      "outputs": []
    },
    {
      "cell_type": "code",
      "source": [
        "!wget --quiet https://github.com/matterport/Mask_RCNN/releases/download/v2.0/mask_rcnn_coco.h5\n",
        "!ls -lh mask_rcnn_coco.h5"
      ],
      "metadata": {
        "colab": {
          "base_uri": "https://localhost:8080/"
        },
        "id": "qdnR1wPwFQjx",
        "outputId": "5f02ef25-4f9d-46d5-b87e-fadd4294773e"
      },
      "execution_count": 14,
      "outputs": [
        {
          "output_type": "stream",
          "name": "stdout",
          "text": [
            "-rw-r--r-- 1 root root 246M Dec  6  2021 mask_rcnn_coco.h5\n"
          ]
        }
      ]
    },
    {
      "cell_type": "code",
      "source": [
        "COCO_WEIGHTS_PATH = \"mask_rcnn_coco.h5\""
      ],
      "metadata": {
        "id": "i7EIOsZcFgVB"
      },
      "execution_count": 15,
      "outputs": []
    },
    {
      "cell_type": "code",
      "source": [
        "data_dir = '/content/drive/MyDrive/data'"
      ],
      "metadata": {
        "id": "yxuopvOkFoFy"
      },
      "execution_count": 16,
      "outputs": []
    },
    {
      "cell_type": "code",
      "source": [
        "main_dir = '/content/drive/MyDrive'"
      ],
      "metadata": {
        "id": "qrwTM753Gd-D"
      },
      "execution_count": 17,
      "outputs": []
    },
    {
      "cell_type": "code",
      "source": [
        "train_dir = os.path.join(data_dir, 'training_images')"
      ],
      "metadata": {
        "id": "7BNODWmiKJME"
      },
      "execution_count": 22,
      "outputs": []
    },
    {
      "cell_type": "code",
      "source": [
        "test_dir = os.path.join(data_dir, 'testing_images')"
      ],
      "metadata": {
        "id": "wN8hj8gCKKvB"
      },
      "execution_count": 23,
      "outputs": []
    },
    {
      "cell_type": "code",
      "source": [
        "import os\n",
        "\n",
        "train_images = os.listdir(train_dir)\n",
        "num_train_images = len(train_images)\n",
        "\n",
        "test_images = os.listdir(test_dir)\n",
        "num_test_images = len(test_images)"
      ],
      "metadata": {
        "id": "jeXZWhtzKZDH"
      },
      "execution_count": 27,
      "outputs": []
    },
    {
      "cell_type": "code",
      "source": [
        "print(\"Količina slika za trening:\", num_train_images)"
      ],
      "metadata": {
        "colab": {
          "base_uri": "https://localhost:8080/"
        },
        "id": "xhAaHCCML8Gs",
        "outputId": "5348e0c6-cf5f-486f-d7ed-5edf9c77e5f3"
      },
      "execution_count": 28,
      "outputs": [
        {
          "output_type": "stream",
          "name": "stdout",
          "text": [
            "Količina slika za trening: 1001\n"
          ]
        }
      ]
    },
    {
      "cell_type": "code",
      "source": [
        "print(\"Korličina slika za test:\", num_test_images)"
      ],
      "metadata": {
        "colab": {
          "base_uri": "https://localhost:8080/"
        },
        "id": "g_WPcuXiL94o",
        "outputId": "55db8619-7c1f-4cd6-a824-6a7fe879ce4a"
      },
      "execution_count": 29,
      "outputs": [
        {
          "output_type": "stream",
          "name": "stdout",
          "text": [
            "Korličina slika za test: 175\n"
          ]
        }
      ]
    },
    {
      "cell_type": "code",
      "source": [
        "import pandas as pd\n",
        "import os"
      ],
      "metadata": {
        "id": "zxtACS_0MRME"
      },
      "execution_count": 31,
      "outputs": []
    },
    {
      "cell_type": "code",
      "source": [
        "csv_test = os.path.join(data_dir, 'sample_submission.csv')"
      ],
      "metadata": {
        "id": "ya7eWPGZMZnK"
      },
      "execution_count": 32,
      "outputs": []
    },
    {
      "cell_type": "code",
      "source": [
        "csv_train = os.path.join(data_dir, 'train_solution_bounding_boxes (1).csv')"
      ],
      "metadata": {
        "id": "j9GMRxKrMcII"
      },
      "execution_count": 33,
      "outputs": []
    },
    {
      "cell_type": "code",
      "source": [
        "dataTestCsv = pd.read_csv(csv_test)\n",
        "dataTrainCsv = pd.read_csv(csv_train)"
      ],
      "metadata": {
        "id": "3A2fFUV6Me3p"
      },
      "execution_count": 35,
      "outputs": []
    },
    {
      "cell_type": "code",
      "source": [
        "print(\"\\nCsv test fajl:\")\n",
        "print(dataTestCsv)\n",
        "\n",
        "print(\"\\nCsv trening fajl:\")\n",
        "print(dataTrainCsv)"
      ],
      "metadata": {
        "colab": {
          "base_uri": "https://localhost:8080/"
        },
        "id": "EmxBIEsAMhjv",
        "outputId": "1856928a-e4ee-4e09-f2e4-6bcbc1f898f2"
      },
      "execution_count": 36,
      "outputs": [
        {
          "output_type": "stream",
          "name": "stdout",
          "text": [
            "\n",
            "Csv test fajl:\n",
            "              image                           bounds\n",
            "0   vid_5_26560.jpg  0.0 0.0 1.0 1.0 0.0 0.0 1.0 1.0\n",
            "1   vid_5_26580.jpg  0.0 0.0 1.0 1.0 0.0 0.0 1.0 1.0\n",
            "2   vid_5_26600.jpg                  0.0 0.0 1.0 1.0\n",
            "3   vid_5_26620.jpg                  0.0 0.0 1.0 1.0\n",
            "4   vid_5_26640.jpg                  0.0 0.0 1.0 1.0\n",
            "..              ...                              ...\n",
            "78  vid_5_31560.jpg                  0.0 0.0 1.0 1.0\n",
            "79  vid_5_31600.jpg                  0.0 0.0 1.0 1.0\n",
            "80  vid_5_31620.jpg                  0.0 0.0 1.0 1.0\n",
            "81  vid_5_31700.jpg                  0.0 0.0 1.0 1.0\n",
            "82  vid_5_31720.jpg                  0.0 0.0 1.0 1.0\n",
            "\n",
            "[83 rows x 2 columns]\n",
            "\n",
            "Csv trening fajl:\n",
            "               image        xmin        ymin        xmax        ymax\n",
            "0     vid_4_1000.jpg  281.259045  187.035071  327.727931  223.225547\n",
            "1    vid_4_10000.jpg   15.163531  187.035071  120.329957  236.430180\n",
            "2    vid_4_10040.jpg  239.192475  176.764801  361.968162  236.430180\n",
            "3    vid_4_10020.jpg  496.483358  172.363256  630.020260  231.539575\n",
            "4    vid_4_10060.jpg   16.630970  186.546010  132.558611  238.386422\n",
            "..               ...         ...         ...         ...         ...\n",
            "554   vid_4_9860.jpg    0.000000  198.321729   49.235251  236.223284\n",
            "555   vid_4_9880.jpg  329.876184  156.482351  536.664239  250.497895\n",
            "556   vid_4_9900.jpg    0.000000  168.295823  141.797524  239.176652\n",
            "557   vid_4_9960.jpg  487.428988  172.233646  616.917699  228.839864\n",
            "558   vid_4_9980.jpg  221.558631  182.570434  348.585579  238.192196\n",
            "\n",
            "[559 rows x 5 columns]\n"
          ]
        }
      ]
    },
    {
      "cell_type": "code",
      "source": [
        "import pandas as pd"
      ],
      "metadata": {
        "id": "IT3OJDm8Nbeb"
      },
      "execution_count": 37,
      "outputs": []
    },
    {
      "cell_type": "code",
      "source": [
        "csv_train = os.path.join(data_dir, 'train_solution_bounding_boxes (1).csv')\n",
        "df_train = pd.read_csv(csv_train)"
      ],
      "metadata": {
        "id": "VPCcM1JTNjtn"
      },
      "execution_count": 42,
      "outputs": []
    },
    {
      "cell_type": "code",
      "source": [
        "class_counts1 = df_train['xmin'].notnull().value_counts()"
      ],
      "metadata": {
        "id": "qS1gGWd0OfPU"
      },
      "execution_count": 43,
      "outputs": []
    },
    {
      "cell_type": "code",
      "source": [
        "print(\"Raspodela klasa - xmin:\")\n",
        "print(class_counts1)"
      ],
      "metadata": {
        "colab": {
          "base_uri": "https://localhost:8080/"
        },
        "id": "oW1f6j5nOgDS",
        "outputId": "bbd31074-8f6c-42a9-df3c-3b7fb94806ce"
      },
      "execution_count": 44,
      "outputs": [
        {
          "output_type": "stream",
          "name": "stdout",
          "text": [
            "Raspodela klasa:\n",
            "True    559\n",
            "Name: xmin, dtype: int64\n"
          ]
        }
      ]
    },
    {
      "cell_type": "code",
      "source": [
        "class_counts2 = df_train['xmax'].notnull().value_counts()"
      ],
      "metadata": {
        "id": "Rd48soX5OntQ"
      },
      "execution_count": 45,
      "outputs": []
    },
    {
      "cell_type": "code",
      "source": [
        "print(\"Raspodela klasa - xmax:\")\n",
        "print(class_counts2)"
      ],
      "metadata": {
        "colab": {
          "base_uri": "https://localhost:8080/"
        },
        "id": "FlAJIa5pOrrU",
        "outputId": "c50c8f94-867e-4332-8f71-ce7a8904d211"
      },
      "execution_count": 46,
      "outputs": [
        {
          "output_type": "stream",
          "name": "stdout",
          "text": [
            "Raspodela klasa - xmax:\n",
            "True    559\n",
            "Name: xmax, dtype: int64\n"
          ]
        }
      ]
    }
  ]
}